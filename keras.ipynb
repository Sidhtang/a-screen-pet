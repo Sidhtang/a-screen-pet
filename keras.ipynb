{
  "nbformat": 4,
  "nbformat_minor": 0,
  "metadata": {
    "colab": {
      "provenance": [],
      "authorship_tag": "ABX9TyMn9qAj1US3900mKinbDV51",
      "include_colab_link": true
    },
    "kernelspec": {
      "name": "python3",
      "display_name": "Python 3"
    },
    "language_info": {
      "name": "python"
    }
  },
  "cells": [
    {
      "cell_type": "markdown",
      "metadata": {
        "id": "view-in-github",
        "colab_type": "text"
      },
      "source": [
        "<a href=\"https://colab.research.google.com/github/Sidhtang/a-screen-pet/blob/main/keras.ipynb\" target=\"_parent\"><img src=\"https://colab.research.google.com/assets/colab-badge.svg\" alt=\"Open In Colab\"/></a>"
      ]
    },
    {
      "cell_type": "code",
      "source": [],
      "metadata": {
        "id": "UNAd0XObK-4t"
      },
      "execution_count": null,
      "outputs": []
    },
    {
      "cell_type": "code",
      "source": [
        "pip install tensorflow\n"
      ],
      "metadata": {
        "colab": {
          "base_uri": "https://localhost:8080/"
        },
        "outputId": "07bda52c-23ae-4da1-f020-12c36b2cc763",
        "collapsed": true,
        "id": "S5Ip9j68vBgJ"
      },
      "execution_count": 1,
      "outputs": [
        {
          "output_type": "stream",
          "name": "stdout",
          "text": [
            "Requirement already satisfied: tensorflow in /usr/local/lib/python3.10/dist-packages (2.15.0)\n",
            "Requirement already satisfied: absl-py>=1.0.0 in /usr/local/lib/python3.10/dist-packages (from tensorflow) (1.4.0)\n",
            "Requirement already satisfied: astunparse>=1.6.0 in /usr/local/lib/python3.10/dist-packages (from tensorflow) (1.6.3)\n",
            "Requirement already satisfied: flatbuffers>=23.5.26 in /usr/local/lib/python3.10/dist-packages (from tensorflow) (24.3.25)\n",
            "Requirement already satisfied: gast!=0.5.0,!=0.5.1,!=0.5.2,>=0.2.1 in /usr/local/lib/python3.10/dist-packages (from tensorflow) (0.5.4)\n",
            "Requirement already satisfied: google-pasta>=0.1.1 in /usr/local/lib/python3.10/dist-packages (from tensorflow) (0.2.0)\n",
            "Requirement already satisfied: h5py>=2.9.0 in /usr/local/lib/python3.10/dist-packages (from tensorflow) (3.9.0)\n",
            "Requirement already satisfied: libclang>=13.0.0 in /usr/local/lib/python3.10/dist-packages (from tensorflow) (18.1.1)\n",
            "Requirement already satisfied: ml-dtypes~=0.2.0 in /usr/local/lib/python3.10/dist-packages (from tensorflow) (0.2.0)\n",
            "Requirement already satisfied: numpy<2.0.0,>=1.23.5 in /usr/local/lib/python3.10/dist-packages (from tensorflow) (1.25.2)\n",
            "Requirement already satisfied: opt-einsum>=2.3.2 in /usr/local/lib/python3.10/dist-packages (from tensorflow) (3.3.0)\n",
            "Requirement already satisfied: packaging in /usr/local/lib/python3.10/dist-packages (from tensorflow) (24.0)\n",
            "Requirement already satisfied: protobuf!=4.21.0,!=4.21.1,!=4.21.2,!=4.21.3,!=4.21.4,!=4.21.5,<5.0.0dev,>=3.20.3 in /usr/local/lib/python3.10/dist-packages (from tensorflow) (3.20.3)\n",
            "Requirement already satisfied: setuptools in /usr/local/lib/python3.10/dist-packages (from tensorflow) (67.7.2)\n",
            "Requirement already satisfied: six>=1.12.0 in /usr/local/lib/python3.10/dist-packages (from tensorflow) (1.16.0)\n",
            "Requirement already satisfied: termcolor>=1.1.0 in /usr/local/lib/python3.10/dist-packages (from tensorflow) (2.4.0)\n",
            "Requirement already satisfied: typing-extensions>=3.6.6 in /usr/local/lib/python3.10/dist-packages (from tensorflow) (4.11.0)\n",
            "Requirement already satisfied: wrapt<1.15,>=1.11.0 in /usr/local/lib/python3.10/dist-packages (from tensorflow) (1.14.1)\n",
            "Requirement already satisfied: tensorflow-io-gcs-filesystem>=0.23.1 in /usr/local/lib/python3.10/dist-packages (from tensorflow) (0.37.0)\n",
            "Requirement already satisfied: grpcio<2.0,>=1.24.3 in /usr/local/lib/python3.10/dist-packages (from tensorflow) (1.63.0)\n",
            "Requirement already satisfied: tensorboard<2.16,>=2.15 in /usr/local/lib/python3.10/dist-packages (from tensorflow) (2.15.2)\n",
            "Requirement already satisfied: tensorflow-estimator<2.16,>=2.15.0 in /usr/local/lib/python3.10/dist-packages (from tensorflow) (2.15.0)\n",
            "Requirement already satisfied: keras<2.16,>=2.15.0 in /usr/local/lib/python3.10/dist-packages (from tensorflow) (2.15.0)\n",
            "Requirement already satisfied: wheel<1.0,>=0.23.0 in /usr/local/lib/python3.10/dist-packages (from astunparse>=1.6.0->tensorflow) (0.43.0)\n",
            "Requirement already satisfied: google-auth<3,>=1.6.3 in /usr/local/lib/python3.10/dist-packages (from tensorboard<2.16,>=2.15->tensorflow) (2.27.0)\n",
            "Requirement already satisfied: google-auth-oauthlib<2,>=0.5 in /usr/local/lib/python3.10/dist-packages (from tensorboard<2.16,>=2.15->tensorflow) (1.2.0)\n",
            "Requirement already satisfied: markdown>=2.6.8 in /usr/local/lib/python3.10/dist-packages (from tensorboard<2.16,>=2.15->tensorflow) (3.6)\n",
            "Requirement already satisfied: requests<3,>=2.21.0 in /usr/local/lib/python3.10/dist-packages (from tensorboard<2.16,>=2.15->tensorflow) (2.31.0)\n",
            "Requirement already satisfied: tensorboard-data-server<0.8.0,>=0.7.0 in /usr/local/lib/python3.10/dist-packages (from tensorboard<2.16,>=2.15->tensorflow) (0.7.2)\n",
            "Requirement already satisfied: werkzeug>=1.0.1 in /usr/local/lib/python3.10/dist-packages (from tensorboard<2.16,>=2.15->tensorflow) (3.0.3)\n",
            "Requirement already satisfied: cachetools<6.0,>=2.0.0 in /usr/local/lib/python3.10/dist-packages (from google-auth<3,>=1.6.3->tensorboard<2.16,>=2.15->tensorflow) (5.3.3)\n",
            "Requirement already satisfied: pyasn1-modules>=0.2.1 in /usr/local/lib/python3.10/dist-packages (from google-auth<3,>=1.6.3->tensorboard<2.16,>=2.15->tensorflow) (0.4.0)\n",
            "Requirement already satisfied: rsa<5,>=3.1.4 in /usr/local/lib/python3.10/dist-packages (from google-auth<3,>=1.6.3->tensorboard<2.16,>=2.15->tensorflow) (4.9)\n",
            "Requirement already satisfied: requests-oauthlib>=0.7.0 in /usr/local/lib/python3.10/dist-packages (from google-auth-oauthlib<2,>=0.5->tensorboard<2.16,>=2.15->tensorflow) (1.3.1)\n",
            "Requirement already satisfied: charset-normalizer<4,>=2 in /usr/local/lib/python3.10/dist-packages (from requests<3,>=2.21.0->tensorboard<2.16,>=2.15->tensorflow) (3.3.2)\n",
            "Requirement already satisfied: idna<4,>=2.5 in /usr/local/lib/python3.10/dist-packages (from requests<3,>=2.21.0->tensorboard<2.16,>=2.15->tensorflow) (3.7)\n",
            "Requirement already satisfied: urllib3<3,>=1.21.1 in /usr/local/lib/python3.10/dist-packages (from requests<3,>=2.21.0->tensorboard<2.16,>=2.15->tensorflow) (2.0.7)\n",
            "Requirement already satisfied: certifi>=2017.4.17 in /usr/local/lib/python3.10/dist-packages (from requests<3,>=2.21.0->tensorboard<2.16,>=2.15->tensorflow) (2024.2.2)\n",
            "Requirement already satisfied: MarkupSafe>=2.1.1 in /usr/local/lib/python3.10/dist-packages (from werkzeug>=1.0.1->tensorboard<2.16,>=2.15->tensorflow) (2.1.5)\n",
            "Requirement already satisfied: pyasn1<0.7.0,>=0.4.6 in /usr/local/lib/python3.10/dist-packages (from pyasn1-modules>=0.2.1->google-auth<3,>=1.6.3->tensorboard<2.16,>=2.15->tensorflow) (0.6.0)\n",
            "Requirement already satisfied: oauthlib>=3.0.0 in /usr/local/lib/python3.10/dist-packages (from requests-oauthlib>=0.7.0->google-auth-oauthlib<2,>=0.5->tensorboard<2.16,>=2.15->tensorflow) (3.2.2)\n"
          ]
        }
      ]
    },
    {
      "cell_type": "code",
      "source": [
        "import tensorflow as tf\n",
        "from tensorflow import keras\n",
        "import numpy as np"
      ],
      "metadata": {
        "id": "08dCotpTKy9X"
      },
      "execution_count": 2,
      "outputs": []
    },
    {
      "cell_type": "code",
      "source": [
        "fashion_mnist= keras.datasets.fashion_mnist"
      ],
      "metadata": {
        "id": "jNiTgvSDKAJU"
      },
      "execution_count": 3,
      "outputs": []
    },
    {
      "cell_type": "code",
      "source": [
        "(X_train_full, y_train_full), (X_test, y_test) = fashion_mnist.load_data()"
      ],
      "metadata": {
        "colab": {
          "base_uri": "https://localhost:8080/"
        },
        "id": "Wq6dM1LCKALe",
        "outputId": "528a8a6a-8305-4a81-d24b-363faa5175e6",
        "collapsed": true
      },
      "execution_count": 4,
      "outputs": [
        {
          "output_type": "stream",
          "name": "stdout",
          "text": [
            "Downloading data from https://storage.googleapis.com/tensorflow/tf-keras-datasets/train-labels-idx1-ubyte.gz\n",
            "29515/29515 [==============================] - 0s 0us/step\n",
            "Downloading data from https://storage.googleapis.com/tensorflow/tf-keras-datasets/train-images-idx3-ubyte.gz\n",
            "26421880/26421880 [==============================] - 0s 0us/step\n",
            "Downloading data from https://storage.googleapis.com/tensorflow/tf-keras-datasets/t10k-labels-idx1-ubyte.gz\n",
            "5148/5148 [==============================] - 0s 0us/step\n",
            "Downloading data from https://storage.googleapis.com/tensorflow/tf-keras-datasets/t10k-images-idx3-ubyte.gz\n",
            "4422102/4422102 [==============================] - 0s 0us/step\n"
          ]
        }
      ]
    },
    {
      "cell_type": "code",
      "source": [
        "X_train_full.shape"
      ],
      "metadata": {
        "colab": {
          "base_uri": "https://localhost:8080/"
        },
        "id": "uHMRqcOfKAPF",
        "outputId": "cf0ec71b-f2bb-495d-ca72-a0dd8d41d695"
      },
      "execution_count": 5,
      "outputs": [
        {
          "output_type": "execute_result",
          "data": {
            "text/plain": [
              "(60000, 28, 28)"
            ]
          },
          "metadata": {},
          "execution_count": 5
        }
      ]
    },
    {
      "cell_type": "code",
      "source": [
        "#scaling the features as we are going to train the network with gradient descent\n",
        "X_valid, X_train = X_train_full[:5000] / 255.0, X_train_full[5000:] / 255.0\n",
        "y_valid, y_train = y_train_full[:5000], y_train_full[5000:]"
      ],
      "metadata": {
        "id": "mtJm8vdtM3GP"
      },
      "execution_count": 6,
      "outputs": []
    },
    {
      "cell_type": "code",
      "source": [
        "class_names = [\"T-shirt/top\", \"Trouser\", \"Pullover\", \"Dress\", \"Coat\",\n",
        " \"Sandal\", \"Shirt\", \"Sneaker\", \"Bag\", \"Ankle boot\"]"
      ],
      "metadata": {
        "id": "8gqnreg_OcHI"
      },
      "execution_count": 7,
      "outputs": []
    },
    {
      "cell_type": "code",
      "source": [
        " class_names[y_train[0]]"
      ],
      "metadata": {
        "colab": {
          "base_uri": "https://localhost:8080/",
          "height": 36
        },
        "id": "LJGwNMwiOcQ6",
        "outputId": "0512cba3-3288-4c26-b529-1ddedb9147b6"
      },
      "execution_count": 8,
      "outputs": [
        {
          "output_type": "execute_result",
          "data": {
            "text/plain": [
              "'Coat'"
            ],
            "application/vnd.google.colaboratory.intrinsic+json": {
              "type": "string"
            }
          },
          "metadata": {},
          "execution_count": 8
        }
      ]
    },
    {
      "cell_type": "code",
      "source": [
        "model = keras.models.Sequential()\n",
        "#It is a Flatten layer whoserole is to convert each input image into a 1D array: if it receives input data X, itcomputes X.reshape(-1, 1). This layer does not have any parameters; computes X.reshape(-1, 1). This layer does not have any parameters; it is just\n",
        "#there to do some simple preprocessing\n",
        "\n",
        "model.add(keras.layers.Flatten(input_shape=[28, 28]))\n",
        "#we add a Dense hidden layer with 300 neurons. It will use the ReLU activa‐\n",
        "#tion function. Each Dense layer manages its own weight matrix, containing all the\n",
        "#connection weights between the neurons and their inputs.\n",
        "model.add(keras.layers.Dense(300, activation=\"relu\"))#then we add a second Dense hidden layer with 100 neurons, also using the ReLU\n",
        "model.add(keras.layers.Dense(100, activation=\"relu\"))\n",
        "#• Finally, we add a Dense output layer with 10 neurons (one per class), using the\n",
        "#softmax activation function (because the classes are exclusive).\n",
        "model.add(keras.layers.Dense(10, activation=\"softmax\"))\n",
        "\n",
        "\n",
        "\n"
      ],
      "metadata": {
        "id": "mhyx2uQWOmGN"
      },
      "execution_count": 9,
      "outputs": []
    },
    {
      "cell_type": "code",
      "source": [
        "model.summary()"
      ],
      "metadata": {
        "colab": {
          "base_uri": "https://localhost:8080/"
        },
        "id": "mEJnZSBuOmIx",
        "outputId": "31ecf73e-881f-4aa8-ef26-8bf40735bad9"
      },
      "execution_count": 10,
      "outputs": [
        {
          "output_type": "stream",
          "name": "stdout",
          "text": [
            "Model: \"sequential\"\n",
            "_________________________________________________________________\n",
            " Layer (type)                Output Shape              Param #   \n",
            "=================================================================\n",
            " flatten (Flatten)           (None, 784)               0         \n",
            "                                                                 \n",
            " dense (Dense)               (None, 300)               235500    \n",
            "                                                                 \n",
            " dense_1 (Dense)             (None, 100)               30100     \n",
            "                                                                 \n",
            " dense_2 (Dense)             (None, 10)                1010      \n",
            "                                                                 \n",
            "=================================================================\n",
            "Total params: 266610 (1.02 MB)\n",
            "Trainable params: 266610 (1.02 MB)\n",
            "Non-trainable params: 0 (0.00 Byte)\n",
            "_________________________________________________________________\n"
          ]
        }
      ]
    },
    {
      "cell_type": "code",
      "source": [
        "keras.utils.plot_model(model)"
      ],
      "metadata": {
        "colab": {
          "base_uri": "https://localhost:8080/",
          "height": 466
        },
        "id": "psEHlDqFOmMM",
        "outputId": "665364bc-4e8a-4b9e-97cd-a05de156d2ca"
      },
      "execution_count": 11,
      "outputs": [
        {
          "output_type": "execute_result",
          "data": {
            "image/png": "[encoded data removed]",
            "text/plain": [
              "<IPython.core.display.Image object>"
            ]
          },
          "metadata": {},
          "execution_count": 11
        }
      ]
    },
    {
      "cell_type": "markdown",
      "source": [],
      "metadata": {
        "id": "5-LGl2QpjSQY"
      }
    },
    {
      "cell_type": "code",
      "source": [
        "model.layers\n",
        "hidden1=model.layers[1]\n",
        "hidden1.name"
      ],
      "metadata": {
        "colab": {
          "base_uri": "https://localhost:8080/",
          "height": 36
        },
        "id": "T1BrQFucjVdU",
        "outputId": "24872776-9b48-4c13-cad6-371966d8143b"
      },
      "execution_count": 12,
      "outputs": [
        {
          "output_type": "execute_result",
          "data": {
            "text/plain": [
              "'dense'"
            ],
            "application/vnd.google.colaboratory.intrinsic+json": {
              "type": "string"
            }
          },
          "metadata": {},
          "execution_count": 12
        }
      ]
    },
    {
      "cell_type": "markdown",
      "source": [],
      "metadata": {
        "id": "flW8Md-ejlzP"
      }
    },
    {
      "cell_type": "markdown",
      "source": [],
      "metadata": {
        "id": "x6JI8TBIjni4"
      }
    },
    {
      "cell_type": "code",
      "source": [
        "weights,biases = hidden1.get_weights()\n",
        "weights"
      ],
      "metadata": {
        "id": "grqUkZU8Xt1k",
        "colab": {
          "base_uri": "https://localhost:8080/"
        },
        "outputId": "a3c623e5-edb8-442c-e919-11d1f3e8747d"
      },
      "execution_count": 13,
      "outputs": [
        {
          "output_type": "execute_result",
          "data": {
            "text/plain": [
              "array([[-0.05252008,  0.0474299 , -0.0142237 , ...,  0.01016407,\n",
              "        -0.04323277, -0.01106902],\n",
              "       [ 0.03029794, -0.04294352,  0.00702543, ...,  0.00527667,\n",
              "        -0.01862789,  0.02888503],\n",
              "       [-0.04765395, -0.0400983 ,  0.02049428, ...,  0.05697906,\n",
              "        -0.06682444, -0.00194737],\n",
              "       ...,\n",
              "       [-0.00361327,  0.03998405, -0.01243551, ..., -0.00355782,\n",
              "        -0.00814091, -0.03143976],\n",
              "       [ 0.01313678, -0.06638062, -0.06198812, ...,  0.05738445,\n",
              "         0.07226814, -0.07002931],\n",
              "       [-0.02303044, -0.04505741, -0.04605266, ...,  0.01970651,\n",
              "         0.01737826, -0.03899394]], dtype=float32)"
            ]
          },
          "metadata": {},
          "execution_count": 13
        }
      ]
    },
    {
      "cell_type": "code",
      "source": [
        "#compiling the model\n",
        "model.compile(loss=\"sparse_categorical_crossentropy\",\n",
        " optimizer=\"sgd\",\n",
        " metrics=[\"accuracy\"])\n",
        "#First, we use the \"sparse_categorical_cross\n",
        "#entropy\" loss because we have sparse labels (i.e., for each instance, there is just a tar‐\n",
        "#get class index, from 0 to 9 in this case), and the classes are exclusive.\n"
      ],
      "metadata": {
        "id": "6ZckH0r_Xt4_"
      },
      "execution_count": 14,
      "outputs": []
    },
    {
      "cell_type": "code",
      "source": [
        "#training and evaluating the model\n",
        "history=model.fit(X_train,y_train,epochs=30,\n",
        "              validation_data=(X_valid, y_valid))\n"
      ],
      "metadata": {
        "id": "DNuYYZT_hGg7",
        "colab": {
          "base_uri": "https://localhost:8080/"
        },
        "outputId": "85614c62-ac53-4a25-9c13-ccad7e831e57"
      },
      "execution_count": 15,
      "outputs": [
        {
          "output_type": "stream",
          "name": "stdout",
          "text": [
            "Epoch 1/30\n",
            "1719/1719 [==============================] - 17s 9ms/step - loss: 0.7165 - accuracy: 0.7631 - val_loss: 0.5340 - val_accuracy: 0.8086\n",
            "Epoch 2/30\n",
            "1719/1719 [==============================] - 15s 8ms/step - loss: 0.4844 - accuracy: 0.8293 - val_loss: 0.4456 - val_accuracy: 0.8480\n",
            "Epoch 3/30\n",
            "1719/1719 [==============================] - 18s 10ms/step - loss: 0.4394 - accuracy: 0.8459 - val_loss: 0.4209 - val_accuracy: 0.8558\n",
            "Epoch 4/30\n",
            "1719/1719 [==============================] - 15s 9ms/step - loss: 0.4133 - accuracy: 0.8547 - val_loss: 0.3924 - val_accuracy: 0.8684\n",
            "Epoch 5/30\n",
            "1719/1719 [==============================] - 9s 5ms/step - loss: 0.3921 - accuracy: 0.8608 - val_loss: 0.4122 - val_accuracy: 0.8558\n",
            "Epoch 6/30\n",
            "1719/1719 [==============================] - 7s 4ms/step - loss: 0.3770 - accuracy: 0.8669 - val_loss: 0.3646 - val_accuracy: 0.8712\n",
            "Epoch 7/30\n",
            "1719/1719 [==============================] - 9s 5ms/step - loss: 0.3628 - accuracy: 0.8715 - val_loss: 0.3623 - val_accuracy: 0.8674\n",
            "Epoch 8/30\n",
            "1719/1719 [==============================] - 7s 4ms/step - loss: 0.3509 - accuracy: 0.8751 - val_loss: 0.3602 - val_accuracy: 0.8698\n",
            "Epoch 9/30\n",
            "1719/1719 [==============================] - 8s 5ms/step - loss: 0.3412 - accuracy: 0.8777 - val_loss: 0.3577 - val_accuracy: 0.8722\n",
            "Epoch 10/30\n",
            "1719/1719 [==============================] - 8s 5ms/step - loss: 0.3318 - accuracy: 0.8814 - val_loss: 0.3416 - val_accuracy: 0.8838\n",
            "Epoch 11/30\n",
            "1719/1719 [==============================] - 8s 5ms/step - loss: 0.3236 - accuracy: 0.8849 - val_loss: 0.3523 - val_accuracy: 0.8710\n",
            "Epoch 12/30\n",
            "1719/1719 [==============================] - 8s 5ms/step - loss: 0.3144 - accuracy: 0.8869 - val_loss: 0.3299 - val_accuracy: 0.8798\n",
            "Epoch 13/30\n",
            "1719/1719 [==============================] - 7s 4ms/step - loss: 0.3079 - accuracy: 0.8894 - val_loss: 0.3432 - val_accuracy: 0.8772\n",
            "Epoch 14/30\n",
            "1719/1719 [==============================] - 9s 5ms/step - loss: 0.3013 - accuracy: 0.8918 - val_loss: 0.3279 - val_accuracy: 0.8766\n",
            "Epoch 15/30\n",
            "1719/1719 [==============================] - 7s 4ms/step - loss: 0.2951 - accuracy: 0.8940 - val_loss: 0.3192 - val_accuracy: 0.8826\n",
            "Epoch 16/30\n",
            "1719/1719 [==============================] - 9s 5ms/step - loss: 0.2880 - accuracy: 0.8965 - val_loss: 0.3326 - val_accuracy: 0.8802\n",
            "Epoch 17/30\n",
            "1719/1719 [==============================] - 8s 5ms/step - loss: 0.2824 - accuracy: 0.8982 - val_loss: 0.3117 - val_accuracy: 0.8866\n",
            "Epoch 18/30\n",
            "1719/1719 [==============================] - 7s 4ms/step - loss: 0.2775 - accuracy: 0.9000 - val_loss: 0.3031 - val_accuracy: 0.8888\n",
            "Epoch 19/30\n",
            "1719/1719 [==============================] - 8s 5ms/step - loss: 0.2719 - accuracy: 0.9013 - val_loss: 0.3039 - val_accuracy: 0.8900\n",
            "Epoch 20/30\n",
            "1719/1719 [==============================] - 7s 4ms/step - loss: 0.2675 - accuracy: 0.9028 - val_loss: 0.3056 - val_accuracy: 0.8880\n",
            "Epoch 21/30\n",
            "1719/1719 [==============================] - 8s 5ms/step - loss: 0.2619 - accuracy: 0.9042 - val_loss: 0.3128 - val_accuracy: 0.8864\n",
            "Epoch 22/30\n",
            "1719/1719 [==============================] - 8s 4ms/step - loss: 0.2564 - accuracy: 0.9077 - val_loss: 0.3107 - val_accuracy: 0.8830\n",
            "Epoch 23/30\n",
            "1719/1719 [==============================] - 8s 5ms/step - loss: 0.2523 - accuracy: 0.9087 - val_loss: 0.2963 - val_accuracy: 0.8932\n",
            "Epoch 24/30\n",
            "1719/1719 [==============================] - 10s 6ms/step - loss: 0.2477 - accuracy: 0.9106 - val_loss: 0.2968 - val_accuracy: 0.8896\n",
            "Epoch 25/30\n",
            "1719/1719 [==============================] - 7s 4ms/step - loss: 0.2436 - accuracy: 0.9116 - val_loss: 0.3018 - val_accuracy: 0.8910\n",
            "Epoch 26/30\n",
            "1719/1719 [==============================] - 9s 5ms/step - loss: 0.2389 - accuracy: 0.9132 - val_loss: 0.3073 - val_accuracy: 0.8862\n",
            "Epoch 27/30\n",
            "1719/1719 [==============================] - 14s 8ms/step - loss: 0.2357 - accuracy: 0.9160 - val_loss: 0.2979 - val_accuracy: 0.8912\n",
            "Epoch 28/30\n",
            "1719/1719 [==============================] - 13s 8ms/step - loss: 0.2319 - accuracy: 0.9164 - val_loss: 0.2936 - val_accuracy: 0.8908\n",
            "Epoch 29/30\n",
            "1719/1719 [==============================] - 11s 6ms/step - loss: 0.2271 - accuracy: 0.9179 - val_loss: 0.2885 - val_accuracy: 0.8928\n",
            "Epoch 30/30\n",
            "1719/1719 [==============================] - 11s 6ms/step - loss: 0.2236 - accuracy: 0.9185 - val_loss: 0.3017 - val_accuracy: 0.8908\n"
          ]
        }
      ]
    },
    {
      "cell_type": "code",
      "source": [
        "# Learning curves: the mean training loss and accuracy measured over each\n",
        "#epoch, and the mean validation loss and accuracy measured at the end of each epoch"
      ],
      "metadata": {
        "id": "4xEwZQnMnzLi"
      },
      "execution_count": 33,
      "outputs": []
    },
    {
      "cell_type": "code",
      "source": [],
      "metadata": {
        "id": "eaws2Pndh4YU"
      },
      "execution_count": null,
      "outputs": []
    },
    {
      "cell_type": "code",
      "source": [
        "#using the model to make predicitions"
      ],
      "metadata": {
        "id": "NZVYgBTdnzZR"
      },
      "execution_count": 17,
      "outputs": []
    },
    {
      "cell_type": "code",
      "source": [
        "X_new=X_test[:3]\n",
        "y_proba=model.predict(X_new)\n",
        "y_proba.round(2)"
      ],
      "metadata": {
        "id": "TyWW8yyUhGka",
        "colab": {
          "base_uri": "https://localhost:8080/"
        },
        "outputId": "e4641c63-4548-4c67-f51d-74e309a8c6fc"
      },
      "execution_count": 18,
      "outputs": [
        {
          "output_type": "stream",
          "name": "stdout",
          "text": [
            "1/1 [==============================] - 0s 102ms/step\n"
          ]
        },
        {
          "output_type": "execute_result",
          "data": {
            "text/plain": [
              "array([[0., 0., 0., 0., 0., 0., 0., 0., 0., 1.],\n",
              "       [0., 0., 1., 0., 0., 0., 0., 0., 0., 0.],\n",
              "       [0., 1., 0., 0., 0., 0., 0., 0., 0., 0.]], dtype=float32)"
            ]
          },
          "metadata": {},
          "execution_count": 18
        }
      ]
    },
    {
      "cell_type": "code",
      "source": [
        "y_pred_prob = model.predict(X_new)  # Step 1: Get predicted probabilities\n",
        "y_pred = np.argmax(y_pred_prob, axis=1)  # Step 2: Get the predicted class indices\n",
        "predicted_class_names = np.array(class_names)[y_pred]"
      ],
      "metadata": {
        "colab": {
          "base_uri": "https://localhost:8080/"
        },
        "id": "Imwlapbvoz-8",
        "outputId": "b00a6112-fb82-4efc-e241-2bcf0f67b5ef"
      },
      "execution_count": 19,
      "outputs": [
        {
          "output_type": "stream",
          "name": "stdout",
          "text": [
            "1/1 [==============================] - 0s 31ms/step\n"
          ]
        }
      ]
    },
    {
      "cell_type": "code",
      "source": [
        "y_new=y_test[:3]\n",
        "y_new"
      ],
      "metadata": {
        "colab": {
          "base_uri": "https://localhost:8080/"
        },
        "id": "1VMXbKQAtygx",
        "outputId": "38b3c9e1-166c-4ad9-f2d5-569be8ab8a04"
      },
      "execution_count": 20,
      "outputs": [
        {
          "output_type": "execute_result",
          "data": {
            "text/plain": [
              "array([9, 2, 1], dtype=uint8)"
            ]
          },
          "metadata": {},
          "execution_count": 20
        }
      ]
    },
    {
      "cell_type": "code",
      "source": [],
      "metadata": {
        "id": "bYXNO2rJiF-Q"
      },
      "execution_count": null,
      "outputs": []
    },
    {
      "cell_type": "code",
      "source": [
        "def plot_images(images, true_labels, predicted_labels, class_names):\n",
        "    plt.figure(figsize=(10, 10))\n",
        "    for i in range(len(images)):\n",
        "        plt.subplot(5, 5, i + 1)\n",
        "        plt.xticks([])\n",
        "        plt.yticks([])\n",
        "        plt.grid(False)\n",
        "        plt.imshow(images[i], cmap=plt.cm.binary)\n",
        "        true_label = class_names[true_labels[i]]\n",
        "        predicted_label = class_names[predicted_labels[i]]\n",
        "        color = 'blue' if predicted_label == true_label else 'red'\n",
        "        plt.xlabel(f\"{predicted_label} ({true_label})\", color=color)\n",
        "    plt.show()"
      ],
      "metadata": {
        "id": "-7V-MIcso0CU"
      },
      "execution_count": 21,
      "outputs": []
    },
    {
      "cell_type": "code",
      "source": [
        "#build a regression using MLP sequential API\n",
        "\n",
        "from sklearn.datasets import fetch_california_housing\n",
        "from sklearn.model_selection import train_test_split\n",
        "from sklearn.preprocessing import StandardScaler"
      ],
      "metadata": {
        "id": "FhnwdSfJiHjd"
      },
      "execution_count": 24,
      "outputs": []
    },
    {
      "cell_type": "code",
      "source": [
        "housing =fetch_california_housing()\n",
        "X_train_full, X_test, y_train_full, y_test = train_test_split(\n",
        " housing.data, housing.target)\n",
        "X_train, X_valid, y_train, y_valid = train_test_split(\n",
        " X_train_full, y_train_full)\n",
        "scaler = StandardScaler()\n",
        "X_train = scaler.fit_transform(X_train)\n",
        "X_valid = scaler.transform(X_valid)\n",
        "X_test = scaler.transform(X_test)\n",
        "scaler = StandardScaler()\n",
        "X_train = scaler.fit_transform(X_train)\n",
        "X_valid = scaler.transform(X_valid)\n",
        "X_test = scaler.transform(X_test)\n",
        "\n"
      ],
      "metadata": {
        "id": "k0wqAaXqiHyC"
      },
      "execution_count": 25,
      "outputs": []
    },
    {
      "cell_type": "code",
      "source": [
        " #Since the dataset is quite noisy, we just use a single hidden layer with fewer\n",
        "#neurons than before, to avoid overfitting:\n",
        "model = keras.models.Sequential([\n",
        " keras.layers.Dense(30, activation=\"relu\", input_shape=X_train.shape[1:]),\n",
        " keras.layers.Dense(1)\n",
        "])\n",
        "model.compile(loss=\"mean_squared_error\",optimizer='sgd')\n",
        "history = model.fit(X_train, y_train, epochs=20,\n",
        " validation_data=(X_valid, y_valid))\n",
        "mse_test = model.evaluate(X_test, y_test)\n",
        "X_new = X_test[:3] # pretend these are new instances\n",
        "y_pred = model.predict(X_new)\n",
        "\n"
      ],
      "metadata": {
        "colab": {
          "base_uri": "https://localhost:8080/"
        },
        "id": "w488y70uk4eQ",
        "outputId": "3a5d4aac-801e-4580-d70c-e286fdf62983"
      },
      "execution_count": 26,
      "outputs": [
        {
          "output_type": "stream",
          "name": "stdout",
          "text": [
            "Epoch 1/20\n",
            "363/363 [==============================] - 1s 2ms/step - loss: 1.2204 - val_loss: 0.5216\n",
            "Epoch 2/20\n",
            "363/363 [==============================] - 1s 2ms/step - loss: 0.5105 - val_loss: 0.4725\n",
            "Epoch 3/20\n",
            "363/363 [==============================] - 1s 2ms/step - loss: 0.4777 - val_loss: 0.4513\n",
            "Epoch 4/20\n",
            "363/363 [==============================] - 1s 2ms/step - loss: 0.4551 - val_loss: 0.4541\n",
            "Epoch 5/20\n",
            "363/363 [==============================] - 1s 2ms/step - loss: 0.4396 - val_loss: 0.5243\n",
            "Epoch 6/20\n",
            "363/363 [==============================] - 1s 2ms/step - loss: 0.4550 - val_loss: 0.4256\n",
            "Epoch 7/20\n",
            "363/363 [==============================] - 1s 3ms/step - loss: 0.4258 - val_loss: 0.4169\n",
            "Epoch 8/20\n",
            "363/363 [==============================] - 1s 3ms/step - loss: 0.4163 - val_loss: 0.4188\n",
            "Epoch 9/20\n",
            "363/363 [==============================] - 1s 2ms/step - loss: 0.4092 - val_loss: 0.4143\n",
            "Epoch 10/20\n",
            "363/363 [==============================] - 1s 2ms/step - loss: 0.4042 - val_loss: 0.4051\n",
            "Epoch 11/20\n",
            "363/363 [==============================] - 1s 2ms/step - loss: 0.4019 - val_loss: 0.3990\n",
            "Epoch 12/20\n",
            "363/363 [==============================] - 1s 2ms/step - loss: 0.3962 - val_loss: 0.3990\n",
            "Epoch 13/20\n",
            "363/363 [==============================] - 1s 2ms/step - loss: 0.3946 - val_loss: 0.3938\n",
            "Epoch 14/20\n",
            "363/363 [==============================] - 1s 2ms/step - loss: 0.3897 - val_loss: 0.3905\n",
            "Epoch 15/20\n",
            "363/363 [==============================] - 1s 2ms/step - loss: 0.3856 - val_loss: 0.3902\n",
            "Epoch 16/20\n",
            "363/363 [==============================] - 1s 2ms/step - loss: 0.3831 - val_loss: 0.3951\n",
            "Epoch 17/20\n",
            "363/363 [==============================] - 1s 2ms/step - loss: 0.3842 - val_loss: 0.3963\n",
            "Epoch 18/20\n",
            "363/363 [==============================] - 1s 2ms/step - loss: 0.3802 - val_loss: 0.3810\n",
            "Epoch 19/20\n",
            "363/363 [==============================] - 1s 2ms/step - loss: 0.3806 - val_loss: 0.3823\n",
            "Epoch 20/20\n",
            "363/363 [==============================] - 1s 2ms/step - loss: 0.3857 - val_loss: 0.3752\n",
            "162/162 [==============================] - 0s 1ms/step - loss: 0.3841\n",
            "1/1 [==============================] - 0s 51ms/step\n"
          ]
        }
      ]
    },
    {
      "cell_type": "code",
      "source": [
        "keras.utils.plot_model(model)"
      ],
      "metadata": {
        "colab": {
          "base_uri": "https://localhost:8080/",
          "height": 272
        },
        "id": "EmIWaRbNk4gW",
        "outputId": "870bce62-2466-4216-f2e2-039bf67e5fed"
      },
      "execution_count": 27,
      "outputs": [
        {
          "output_type": "execute_result",
          "data": {
            "image/png": "[encoded data removed]",
            "text/plain": [
              "<IPython.core.display.Image object>"
            ]
          },
          "metadata": {},
          "execution_count": 27
        }
      ]
    },
    {
      "cell_type": "code",
      "source": [
        "#building a complex model uisng the  keras\n",
        "#architecture makes it possible for the neural network to learn both\n",
        "#deep patterns (using the deep path) and simple rules (through the short path).17 In\n",
        "#contrast, a regular MLP forces all the data to flow through the full stack of layers;\n"
      ],
      "metadata": {
        "id": "QP50lD2ik4ju"
      },
      "execution_count": 28,
      "outputs": []
    },
    {
      "cell_type": "code",
      "source": [
        "import matplotlib.pyplot as plt\n",
        "import matplotlib.image as mpimg\n",
        "\n",
        "img = mpimg.imread('/content/Screenshot 2024-05-16 144238.png')\n",
        "plt.imshow(img)\n",
        "plt.axis('off')\n",
        "plt.show()\n",
        "#this will be our complex model"
      ],
      "metadata": {
        "colab": {
          "base_uri": "https://localhost:8080/",
          "height": 272
        },
        "id": "VtweqcNAq-wC",
        "outputId": "27a41147-8e42-4d59-8e72-3ad3f171a54c"
      },
      "execution_count": 29,
      "outputs": [
        {
          "output_type": "display_data",
          "data": {
            "text/plain": [
              "<Figure size 640x480 with 1 Axes>"
            ],
            "image/png": "[encoded data removed]"
          },
          "metadata": {}
        }
      ]
    },
    {
      "cell_type": "code",
      "source": [
        "input_=keras.layers.Input(shape=X_train.shape[1:])\n",
        "\n",
        "hidden1=keras.layers.Dense(30,activation=\"relu\")(input_)\n",
        "hidden2=keras.layers.Dense(30,activation=\"relu\")( hidden1)\n",
        "#e create a Concatenate layer, and once again we immediately use it like a\n",
        "#function, to concatenate the input and the output of the second hidden layer.\n",
        "concat=keras.layers.Concatenate()([input_, hidden2])\n",
        "output=keras.layers.Dense(1)(concat)\n",
        "model=keras.Model(inputs=[input_], outputs=[output])"
      ],
      "metadata": {
        "id": "IS5bxOMisN2a"
      },
      "execution_count": 30,
      "outputs": []
    },
    {
      "cell_type": "code",
      "source": [
        "#sending 6 features to deep path and 5 features to wide path\n",
        "input_A = keras.layers.Input(shape=[5], name=\"wide_input\")\n",
        "input_B = keras.layers.Input(shape=[6], name=\"deep_input\")\n",
        "hidden1 =keras.layers.Dense(30,activation=\"relu\")(input_B)\n",
        "hidden2 = keras.layers.Dense(30, activation=\"relu\")(hidden1)\n",
        "concat = keras.layers.concatenate([input_A, hidden2])\n",
        "output = keras.layers.Dense(1, name=\"output\")(concat)\n",
        "model = keras.Model(inputs=[input_A, input_B], outputs=[output])"
      ],
      "metadata": {
        "id": "qKo-3W3EsN56"
      },
      "execution_count": 31,
      "outputs": []
    },
    {
      "cell_type": "code",
      "source": [
        "#when we call the fit() method, instead of passing a single input\n",
        "#matrix X_train, we must pass a pair of matrices (X_train_A, X_train_B):"
      ],
      "metadata": {
        "id": "uD2dbLCwdq8K"
      },
      "execution_count": null,
      "outputs": []
    },
    {
      "cell_type": "code",
      "source": [
        "model.compile(loss=\"mse\",optimizer=keras.optimizers.SGD(lr=1e-3))\n",
        "X_train_A, X_train_B = X_train[:, :5], X_train[:, 2:]\n",
        "X_valid_A, X_valid_B = X_valid[:, :5], X_valid[:, 2:]\n",
        "X_test_A, X_test_B = X_test[:, :5], X_test[:, 2:]\n",
        "X_new_A, X_new_B = X_test_A[:3], X_test_B[:3]\n",
        "history = model.fit((X_train_A, X_train_B), y_train, epochs=20,\n",
        " validation_data=((X_valid_A, X_valid_B), y_valid))\n",
        "mse_test = model.evaluate((X_test_A, X_test_B), y_test)\n",
        "\n"
      ],
      "metadata": {
        "colab": {
          "base_uri": "https://localhost:8080/"
        },
        "id": "XSxYBLQudy-Q",
        "outputId": "28b4ea4a-95e5-4483-985d-195e612e0089"
      },
      "execution_count": 32,
      "outputs": [
        {
          "output_type": "stream",
          "name": "stderr",
          "text": [
            "WARNING:absl:`lr` is deprecated in Keras optimizer, please use `learning_rate` or use the legacy optimizer, e.g.,tf.keras.optimizers.legacy.SGD.\n"
          ]
        },
        {
          "output_type": "stream",
          "name": "stdout",
          "text": [
            "Epoch 1/20\n",
            "363/363 [==============================] - 1s 3ms/step - loss: 0.9645 - val_loss: 0.5923\n",
            "Epoch 2/20\n",
            "363/363 [==============================] - 1s 3ms/step - loss: 0.7229 - val_loss: 0.5097\n",
            "Epoch 3/20\n",
            "363/363 [==============================] - 1s 2ms/step - loss: 0.5026 - val_loss: 0.4780\n",
            "Epoch 4/20\n",
            "363/363 [==============================] - 1s 2ms/step - loss: 0.4694 - val_loss: 0.4646\n",
            "Epoch 5/20\n",
            "363/363 [==============================] - 1s 2ms/step - loss: 0.4585 - val_loss: 0.4535\n",
            "Epoch 6/20\n",
            "363/363 [==============================] - 1s 2ms/step - loss: 0.4518 - val_loss: 0.4436\n",
            "Epoch 7/20\n",
            "363/363 [==============================] - 1s 2ms/step - loss: 0.4389 - val_loss: 0.4384\n",
            "Epoch 8/20\n",
            "363/363 [==============================] - 1s 3ms/step - loss: 0.4290 - val_loss: 0.4279\n",
            "Epoch 9/20\n",
            "363/363 [==============================] - 2s 4ms/step - loss: 0.4207 - val_loss: 0.4186\n",
            "Epoch 10/20\n",
            "363/363 [==============================] - 1s 3ms/step - loss: 0.4133 - val_loss: 0.4073\n",
            "Epoch 11/20\n",
            "363/363 [==============================] - 1s 2ms/step - loss: 0.4079 - val_loss: 0.4018\n",
            "Epoch 12/20\n",
            "363/363 [==============================] - 1s 2ms/step - loss: 0.3986 - val_loss: 0.3985\n",
            "Epoch 13/20\n",
            "363/363 [==============================] - 1s 2ms/step - loss: 0.3912 - val_loss: 0.3888\n",
            "Epoch 14/20\n",
            "363/363 [==============================] - 1s 2ms/step - loss: 0.3882 - val_loss: 0.3871\n",
            "Epoch 15/20\n",
            "363/363 [==============================] - 1s 2ms/step - loss: 0.3857 - val_loss: 0.3792\n",
            "Epoch 16/20\n",
            "363/363 [==============================] - 1s 3ms/step - loss: 0.3846 - val_loss: 0.3886\n",
            "Epoch 17/20\n",
            "363/363 [==============================] - 1s 2ms/step - loss: 0.3804 - val_loss: 0.3720\n",
            "Epoch 18/20\n",
            "363/363 [==============================] - 1s 2ms/step - loss: 0.3711 - val_loss: 0.3750\n",
            "Epoch 19/20\n",
            "363/363 [==============================] - 1s 2ms/step - loss: 0.3618 - val_loss: 0.3646\n",
            "Epoch 20/20\n",
            "363/363 [==============================] - 1s 2ms/step - loss: 0.3589 - val_loss: 0.3668\n",
            "162/162 [==============================] - 0s 1ms/step - loss: 0.3628\n",
            "1/1 [==============================] - 0s 65ms/step\n"
          ]
        }
      ]
    },
    {
      "cell_type": "code",
      "source": [
        "y_pred = model.predict((X_new_A, X_new_B))"
      ],
      "metadata": {
        "colab": {
          "base_uri": "https://localhost:8080/"
        },
        "id": "4cQw1K7NiSje",
        "outputId": "9d8d8f8c-1a29-4b26-bde0-d6f25e60b81c"
      },
      "execution_count": 35,
      "outputs": [
        {
          "output_type": "stream",
          "name": "stdout",
          "text": [
            "1/1 [==============================] - 0s 23ms/step\n"
          ]
        }
      ]
    },
    {
      "cell_type": "code",
      "source": [],
      "metadata": {
        "id": "Ny_D_2voifZZ"
      },
      "execution_count": null,
      "outputs": []
    }
  ]
}