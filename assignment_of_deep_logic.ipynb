{
  "nbformat": 4,
  "nbformat_minor": 0,
  "metadata": {
    "colab": {
      "provenance": [],
      "authorship_tag": "ABX9TyNh0NqIoZglJctVxNMZFVxG",
      "include_colab_link": true
    },
    "kernelspec": {
      "name": "python3",
      "display_name": "Python 3"
    },
    "language_info": {
      "name": "python"
    }
  },
  "cells": [
    {
      "cell_type": "markdown",
      "metadata": {
        "id": "view-in-github",
        "colab_type": "text"
      },
      "source": [
        "<a href=\"https://colab.research.google.com/github/Sidhtang/a-screen-pet/blob/main/assignment_of_deep_logic.ipynb\" target=\"_parent\"><img src=\"https://colab.research.google.com/assets/colab-badge.svg\" alt=\"Open In Colab\"/></a>"
      ]
    },
    {
      "cell_type": "code",
      "execution_count": 11,
      "metadata": {
        "colab": {
          "base_uri": "https://localhost:8080/"
        },
        "id": "I1LfePxcYdAv",
        "outputId": "0646e345-d2e3-41d1-91cb-2307c2346a47"
      },
      "outputs": [
        {
          "output_type": "stream",
          "name": "stdout",
          "text": [
            "Requirement already satisfied: PyPDF2 in /usr/local/lib/python3.10/dist-packages (3.0.1)\n"
          ]
        }
      ],
      "source": [
        "!pip install --upgrade PyPDF2 # Update PyPDF2 to the latest version\n",
        "import PyPDF2\n",
        "\n",
        "\n",
        "def extract_text_from_pdf(file_path):\n",
        "    pdf_file_obj = open(file_path, 'rb')\n",
        "    # Use PdfReader instead of PdfFileReader\n",
        "    pdf_reader = PyPDF2.PdfReader(pdf_file_obj)\n",
        "    num_pages = pdf_reader.numPages\n",
        "    text = ''\n",
        "    for page in range(num_pages):\n",
        "        page_obj = pdf_reader.getPage(page)\n",
        "        text += page_obj.extractText()\n",
        "    pdf_file_obj.close()\n",
        "    return text\n"
      ]
    },
    {
      "cell_type": "code",
      "source": [
        "import re\n",
        "import nltk\n",
        "from nltk.tokenize import word_tokenize\n",
        "\n",
        "def extract_features(text):\n",
        "    keywords = re.findall(r'\\b\\w+\\b', text)\n",
        "    invoice_number = re.search(r'Invoice Number: (\\d+)', text)\n",
        "    date = re.search(r'Date: (\\d{2}/\\d{2}/\\d{4})', text)\n",
        "    amount = re.search(r'Amount: (\\d{1,3}(?:,\\d{3})*(?:\\.\\d+)?)', text)\n",
        "    features = {\n",
        "        'keywords': keywords,\n",
        "        'invoice_number': invoice_number.group(1) if invoice_number else None,\n",
        "        'date': date.group(1) if date else None,\n",
        "        'amount': amount.group(1) if amount else None\n",
        "    }\n",
        "    return features"
      ],
      "metadata": {
        "id": "OJDRKSgIamUY"
      },
      "execution_count": 5,
      "outputs": []
    },
    {
      "cell_type": "code",
      "source": [
        "import numpy as np\n",
        "\n",
        "def calculate_similarity(features1, features2):\n",
        "    vector1 = np.array([features1['keywords'], features1['invoice_number'], features1['date'], features1['amount']])\n",
        "    vector2 = np.array([features2['keywords'], features2['invoice_number'], features2['date'], features2['amount']])\n",
        "    dot_product = np.dot(vector1, vector2)\n",
        "    magnitude1 = np.linalg.norm(vector1)\n",
        "    magnitude2 = np.linalg.norm(vector2)\n",
        "    similarity = dot_product / (magnitude1 * magnitude2)\n",
        "    return similarity"
      ],
      "metadata": {
        "id": "S44bTAzTamXX"
      },
      "execution_count": 6,
      "outputs": []
    },
    {
      "cell_type": "code",
      "source": [
        "database = []\n",
        "\n",
        "def add_invoice_to_database(file_path):\n",
        "    text = extract_text_from_pdf(file_path)\n",
        "    features = extract_features(text)\n",
        "    database.append(features)\n",
        "\n",
        "def find_most_similar_invoice(file_path):\n",
        "    text = extract_text_from_pdf(file_path)\n",
        "    features = extract_features(text)\n",
        "    max_similarity = 0\n",
        "    most_similar_invoice = None\n",
        "    for invoice in database:\n",
        "        similarity = calculate_similarity(features, invoice)\n",
        "        if similarity > max_similarity:\n",
        "            max_similarity = similarity\n",
        "            most_similar_invoice = invoice\n",
        "    return most_similar_invoice, max_similarity"
      ],
      "metadata": {
        "id": "9a1FaXZCamad"
      },
      "execution_count": 9,
      "outputs": []
    },
    {
      "cell_type": "code",
      "source": [
        "import PyPDF2\n",
        "import re\n",
        "import nltk\n",
        "from nltk.tokenize import word_tokenize\n",
        "import numpy as np\n",
        "\n",
        "def extract_text_from_pdf(file_path):\n",
        "    pdf_file_obj = open(file_path, 'rb')\n",
        "    pdf_reader = PyPDF2.PdfFileReader(pdf_file_obj)\n",
        "    num_pages = len(pdf_reader.pages)\n",
        "    text = ''\n",
        "    for page in range(num_pages):\n",
        "        page_obj = pdf_reader.getPage(page)\n",
        "        text += page_obj.extractText()\n",
        "    pdf_file_obj.close()\n",
        "    return text\n",
        "\n",
        "def extract_features(text):\n",
        "    keywords = re.findall(r'\\b\\w+\\b', text)\n",
        "    invoice_number = re.search(r'Invoice Number: (\\d+)', text)\n",
        "    date = re.search(r'Date: (\\d{2}/\\d{2}/\\d{4})', text)\n",
        "    amount = re.search(r'Amount: (\\d{1,3}(?:,\\d{3})*(?:\\.\\d+)?)', text)\n",
        "    features = {\n",
        "        'keywords': keywords,\n",
        "        'invoice_number': invoice_number.group(1) if invoice_number else None,\n",
        "        'date': date.group(1) if date else None,\n",
        "        'amount': amount.group(1) if amount else None\n",
        "    }\n",
        "    return features\n",
        "\n",
        "def calculate_similarity(features1, features2):\n",
        "    vector1 = np.array([len(features1['keywords']), features1['invoice_number'], features1['date'], features1['amount']])\n",
        "    vector2 = np.array([len(features2['keywords']), features2['invoice_number'], features2['date'], features2['amount']])\n",
        "    dot_product = np.dot(vector1, vector2)\n",
        "    magnitude1 = np.linalg.norm(vector1)\n",
        "    magnitude2 = np.linalg.norm(vector2)\n",
        "    similarity = dot_product / (magnitude1 * magnitude2)\n",
        "    return similarity\n",
        "\n",
        "database = []\n",
        "\n",
        "def add_invoice_to_database(file_path):\n",
        "    text = extract_text_from_pdf(file_path)\n",
        "    features = extract_features(text)\n",
        "    database.append((file_path, features))\n",
        "\n",
        "def find_most_similar_invoice(file_path):\n",
        "    text = extract_text_from_pdf(file_path)\n",
        "    features = extract_features(text)\n",
        "    max_similarity = 0\n",
        "    most_similar_invoice = None\n",
        "    for invoice in database:\n",
        "        similarity = calculate_similarity(features, invoice[1])\n",
        "        if similarity > max_similarity and invoice[0] != file_path:\n",
        "            max_similarity = similarity\n",
        "            most_similar_invoice = invoice\n",
        "    return most_similar_invoice, max_similarity\n",
        "\n",
        "def main():\n",
        "    # Add invoices to database\n",
        "    add_invoice_to_database('/content/invoice_102856.pdf')\n",
        "    add_invoice_to_database('/content/invoice_77073.pdf')\n",
        "\n",
        "\n",
        "    # Find most similar invoice\n",
        "    file_path = '/content/invoice_102856.pdf'\n",
        "    most_similar_invoice, similarity = find_most_similar_invoice(file_path)\n",
        "    print('Most similar invoice:', most_similar_invoice[0])\n",
        "    print('Similarity score:', similarity)\n",
        "\n",
        "if __name__ == '__main__':\n",
        "    main()"
      ],
      "metadata": {
        "colab": {
          "base_uri": "https://localhost:8080/",
          "height": 335
        },
        "id": "F6-1RmqCYd09",
        "outputId": "a8686234-7e13-45e1-92ad-276143b9316d"
      },
      "execution_count": 14,
      "outputs": [
        {
          "output_type": "error",
          "ename": "DeprecationError",
          "evalue": "PdfFileReader is deprecated and was removed in PyPDF2 3.0.0. Use PdfReader instead.",
          "traceback": [
            "\u001b[0;31m---------------------------------------------------------------------------\u001b[0m",
            "\u001b[0;31mDeprecationError\u001b[0m                          Traceback (most recent call last)",
            "\u001b[0;32m<ipython-input-14-468e97be3b4b>\u001b[0m in \u001b[0;36m<cell line: 71>\u001b[0;34m()\u001b[0m\n\u001b[1;32m     70\u001b[0m \u001b[0;34m\u001b[0m\u001b[0m\n\u001b[1;32m     71\u001b[0m \u001b[0;32mif\u001b[0m \u001b[0m__name__\u001b[0m \u001b[0;34m==\u001b[0m \u001b[0;34m'__main__'\u001b[0m\u001b[0;34m:\u001b[0m\u001b[0;34m\u001b[0m\u001b[0;34m\u001b[0m\u001b[0m\n\u001b[0;32m---> 72\u001b[0;31m     \u001b[0mmain\u001b[0m\u001b[0;34m(\u001b[0m\u001b[0;34m)\u001b[0m\u001b[0;34m\u001b[0m\u001b[0;34m\u001b[0m\u001b[0m\n\u001b[0m",
            "\u001b[0;32m<ipython-input-14-468e97be3b4b>\u001b[0m in \u001b[0;36mmain\u001b[0;34m()\u001b[0m\n\u001b[1;32m     59\u001b[0m \u001b[0;32mdef\u001b[0m \u001b[0mmain\u001b[0m\u001b[0;34m(\u001b[0m\u001b[0;34m)\u001b[0m\u001b[0;34m:\u001b[0m\u001b[0;34m\u001b[0m\u001b[0;34m\u001b[0m\u001b[0m\n\u001b[1;32m     60\u001b[0m     \u001b[0;31m# Add invoices to database\u001b[0m\u001b[0;34m\u001b[0m\u001b[0;34m\u001b[0m\u001b[0m\n\u001b[0;32m---> 61\u001b[0;31m     \u001b[0madd_invoice_to_database\u001b[0m\u001b[0;34m(\u001b[0m\u001b[0;34m'/content/invoice_102856.pdf'\u001b[0m\u001b[0;34m)\u001b[0m\u001b[0;34m\u001b[0m\u001b[0;34m\u001b[0m\u001b[0m\n\u001b[0m\u001b[1;32m     62\u001b[0m     \u001b[0madd_invoice_to_database\u001b[0m\u001b[0;34m(\u001b[0m\u001b[0;34m'/content/invoice_77073.pdf'\u001b[0m\u001b[0;34m)\u001b[0m\u001b[0;34m\u001b[0m\u001b[0;34m\u001b[0m\u001b[0m\n\u001b[1;32m     63\u001b[0m \u001b[0;34m\u001b[0m\u001b[0m\n",
            "\u001b[0;32m<ipython-input-14-468e97be3b4b>\u001b[0m in \u001b[0;36madd_invoice_to_database\u001b[0;34m(file_path)\u001b[0m\n\u001b[1;32m     41\u001b[0m \u001b[0;34m\u001b[0m\u001b[0m\n\u001b[1;32m     42\u001b[0m \u001b[0;32mdef\u001b[0m \u001b[0madd_invoice_to_database\u001b[0m\u001b[0;34m(\u001b[0m\u001b[0mfile_path\u001b[0m\u001b[0;34m)\u001b[0m\u001b[0;34m:\u001b[0m\u001b[0;34m\u001b[0m\u001b[0;34m\u001b[0m\u001b[0m\n\u001b[0;32m---> 43\u001b[0;31m     \u001b[0mtext\u001b[0m \u001b[0;34m=\u001b[0m \u001b[0mextract_text_from_pdf\u001b[0m\u001b[0;34m(\u001b[0m\u001b[0mfile_path\u001b[0m\u001b[0;34m)\u001b[0m\u001b[0;34m\u001b[0m\u001b[0;34m\u001b[0m\u001b[0m\n\u001b[0m\u001b[1;32m     44\u001b[0m     \u001b[0mfeatures\u001b[0m \u001b[0;34m=\u001b[0m \u001b[0mextract_features\u001b[0m\u001b[0;34m(\u001b[0m\u001b[0mtext\u001b[0m\u001b[0;34m)\u001b[0m\u001b[0;34m\u001b[0m\u001b[0;34m\u001b[0m\u001b[0m\n\u001b[1;32m     45\u001b[0m     \u001b[0mdatabase\u001b[0m\u001b[0;34m.\u001b[0m\u001b[0mappend\u001b[0m\u001b[0;34m(\u001b[0m\u001b[0;34m(\u001b[0m\u001b[0mfile_path\u001b[0m\u001b[0;34m,\u001b[0m \u001b[0mfeatures\u001b[0m\u001b[0;34m)\u001b[0m\u001b[0;34m)\u001b[0m\u001b[0;34m\u001b[0m\u001b[0;34m\u001b[0m\u001b[0m\n",
            "\u001b[0;32m<ipython-input-14-468e97be3b4b>\u001b[0m in \u001b[0;36mextract_text_from_pdf\u001b[0;34m(file_path)\u001b[0m\n\u001b[1;32m      7\u001b[0m \u001b[0;32mdef\u001b[0m \u001b[0mextract_text_from_pdf\u001b[0m\u001b[0;34m(\u001b[0m\u001b[0mfile_path\u001b[0m\u001b[0;34m)\u001b[0m\u001b[0;34m:\u001b[0m\u001b[0;34m\u001b[0m\u001b[0;34m\u001b[0m\u001b[0m\n\u001b[1;32m      8\u001b[0m     \u001b[0mpdf_file_obj\u001b[0m \u001b[0;34m=\u001b[0m \u001b[0mopen\u001b[0m\u001b[0;34m(\u001b[0m\u001b[0mfile_path\u001b[0m\u001b[0;34m,\u001b[0m \u001b[0;34m'rb'\u001b[0m\u001b[0;34m)\u001b[0m\u001b[0;34m\u001b[0m\u001b[0;34m\u001b[0m\u001b[0m\n\u001b[0;32m----> 9\u001b[0;31m     \u001b[0mpdf_reader\u001b[0m \u001b[0;34m=\u001b[0m \u001b[0mPyPDF2\u001b[0m\u001b[0;34m.\u001b[0m\u001b[0mPdfFileReader\u001b[0m\u001b[0;34m(\u001b[0m\u001b[0mpdf_file_obj\u001b[0m\u001b[0;34m)\u001b[0m\u001b[0;34m\u001b[0m\u001b[0;34m\u001b[0m\u001b[0m\n\u001b[0m\u001b[1;32m     10\u001b[0m     \u001b[0mnum_pages\u001b[0m \u001b[0;34m=\u001b[0m \u001b[0mlen\u001b[0m\u001b[0;34m(\u001b[0m\u001b[0mpdf_reader\u001b[0m\u001b[0;34m.\u001b[0m\u001b[0mpages\u001b[0m\u001b[0;34m)\u001b[0m\u001b[0;34m\u001b[0m\u001b[0;34m\u001b[0m\u001b[0m\n\u001b[1;32m     11\u001b[0m     \u001b[0mtext\u001b[0m \u001b[0;34m=\u001b[0m \u001b[0;34m''\u001b[0m\u001b[0;34m\u001b[0m\u001b[0;34m\u001b[0m\u001b[0m\n",
            "\u001b[0;32m/usr/local/lib/python3.10/dist-packages/PyPDF2/_reader.py\u001b[0m in \u001b[0;36m__init__\u001b[0;34m(self, *args, **kwargs)\u001b[0m\n\u001b[1;32m   1972\u001b[0m \u001b[0;32mclass\u001b[0m \u001b[0mPdfFileReader\u001b[0m\u001b[0;34m(\u001b[0m\u001b[0mPdfReader\u001b[0m\u001b[0;34m)\u001b[0m\u001b[0;34m:\u001b[0m  \u001b[0;31m# pragma: no cover\u001b[0m\u001b[0;34m\u001b[0m\u001b[0;34m\u001b[0m\u001b[0m\n\u001b[1;32m   1973\u001b[0m     \u001b[0;32mdef\u001b[0m \u001b[0m__init__\u001b[0m\u001b[0;34m(\u001b[0m\u001b[0mself\u001b[0m\u001b[0;34m,\u001b[0m \u001b[0;34m*\u001b[0m\u001b[0margs\u001b[0m\u001b[0;34m:\u001b[0m \u001b[0mAny\u001b[0m\u001b[0;34m,\u001b[0m \u001b[0;34m**\u001b[0m\u001b[0mkwargs\u001b[0m\u001b[0;34m:\u001b[0m \u001b[0mAny\u001b[0m\u001b[0;34m)\u001b[0m \u001b[0;34m->\u001b[0m \u001b[0;32mNone\u001b[0m\u001b[0;34m:\u001b[0m\u001b[0;34m\u001b[0m\u001b[0;34m\u001b[0m\u001b[0m\n\u001b[0;32m-> 1974\u001b[0;31m         \u001b[0mdeprecation_with_replacement\u001b[0m\u001b[0;34m(\u001b[0m\u001b[0;34m\"PdfFileReader\"\u001b[0m\u001b[0;34m,\u001b[0m \u001b[0;34m\"PdfReader\"\u001b[0m\u001b[0;34m,\u001b[0m \u001b[0;34m\"3.0.0\"\u001b[0m\u001b[0;34m)\u001b[0m\u001b[0;34m\u001b[0m\u001b[0;34m\u001b[0m\u001b[0m\n\u001b[0m\u001b[1;32m   1975\u001b[0m         \u001b[0;32mif\u001b[0m \u001b[0;34m\"strict\"\u001b[0m \u001b[0;32mnot\u001b[0m \u001b[0;32min\u001b[0m \u001b[0mkwargs\u001b[0m \u001b[0;32mand\u001b[0m \u001b[0mlen\u001b[0m\u001b[0;34m(\u001b[0m\u001b[0margs\u001b[0m\u001b[0;34m)\u001b[0m \u001b[0;34m<\u001b[0m \u001b[0;36m2\u001b[0m\u001b[0;34m:\u001b[0m\u001b[0;34m\u001b[0m\u001b[0;34m\u001b[0m\u001b[0m\n\u001b[1;32m   1976\u001b[0m             \u001b[0mkwargs\u001b[0m\u001b[0;34m[\u001b[0m\u001b[0;34m\"strict\"\u001b[0m\u001b[0;34m]\u001b[0m \u001b[0;34m=\u001b[0m \u001b[0;32mTrue\u001b[0m  \u001b[0;31m# maintain the default\u001b[0m\u001b[0;34m\u001b[0m\u001b[0;34m\u001b[0m\u001b[0m\n",
            "\u001b[0;32m/usr/local/lib/python3.10/dist-packages/PyPDF2/_utils.py\u001b[0m in \u001b[0;36mdeprecation_with_replacement\u001b[0;34m(old_name, new_name, removed_in)\u001b[0m\n\u001b[1;32m    367\u001b[0m     \u001b[0mRaise\u001b[0m \u001b[0man\u001b[0m \u001b[0mexception\u001b[0m \u001b[0mthat\u001b[0m \u001b[0ma\u001b[0m \u001b[0mfeature\u001b[0m \u001b[0mwas\u001b[0m \u001b[0malready\u001b[0m \u001b[0mremoved\u001b[0m\u001b[0;34m,\u001b[0m \u001b[0mbut\u001b[0m \u001b[0mhas\u001b[0m \u001b[0ma\u001b[0m \u001b[0mreplacement\u001b[0m\u001b[0;34m.\u001b[0m\u001b[0;34m\u001b[0m\u001b[0;34m\u001b[0m\u001b[0m\n\u001b[1;32m    368\u001b[0m     \"\"\"\n\u001b[0;32m--> 369\u001b[0;31m     \u001b[0mdeprecation\u001b[0m\u001b[0;34m(\u001b[0m\u001b[0mDEPR_MSG_HAPPENED\u001b[0m\u001b[0;34m.\u001b[0m\u001b[0mformat\u001b[0m\u001b[0;34m(\u001b[0m\u001b[0mold_name\u001b[0m\u001b[0;34m,\u001b[0m \u001b[0mremoved_in\u001b[0m\u001b[0;34m,\u001b[0m \u001b[0mnew_name\u001b[0m\u001b[0;34m)\u001b[0m\u001b[0;34m)\u001b[0m\u001b[0;34m\u001b[0m\u001b[0;34m\u001b[0m\u001b[0m\n\u001b[0m\u001b[1;32m    370\u001b[0m \u001b[0;34m\u001b[0m\u001b[0m\n\u001b[1;32m    371\u001b[0m \u001b[0;34m\u001b[0m\u001b[0m\n",
            "\u001b[0;32m/usr/local/lib/python3.10/dist-packages/PyPDF2/_utils.py\u001b[0m in \u001b[0;36mdeprecation\u001b[0;34m(msg)\u001b[0m\n\u001b[1;32m    349\u001b[0m \u001b[0;34m\u001b[0m\u001b[0m\n\u001b[1;32m    350\u001b[0m \u001b[0;32mdef\u001b[0m \u001b[0mdeprecation\u001b[0m\u001b[0;34m(\u001b[0m\u001b[0mmsg\u001b[0m\u001b[0;34m:\u001b[0m \u001b[0mstr\u001b[0m\u001b[0;34m)\u001b[0m \u001b[0;34m->\u001b[0m \u001b[0;32mNone\u001b[0m\u001b[0;34m:\u001b[0m\u001b[0;34m\u001b[0m\u001b[0;34m\u001b[0m\u001b[0m\n\u001b[0;32m--> 351\u001b[0;31m     \u001b[0;32mraise\u001b[0m \u001b[0mDeprecationError\u001b[0m\u001b[0;34m(\u001b[0m\u001b[0mmsg\u001b[0m\u001b[0;34m)\u001b[0m\u001b[0;34m\u001b[0m\u001b[0;34m\u001b[0m\u001b[0m\n\u001b[0m\u001b[1;32m    352\u001b[0m \u001b[0;34m\u001b[0m\u001b[0m\n\u001b[1;32m    353\u001b[0m \u001b[0;34m\u001b[0m\u001b[0m\n",
            "\u001b[0;31mDeprecationError\u001b[0m: PdfFileReader is deprecated and was removed in PyPDF2 3.0.0. Use PdfReader instead."
          ]
        }
      ]
    },
    {
      "cell_type": "code",
      "source": [
        "!pip install pdfplumber\n",
        "import pdfplumber\n",
        "import re\n",
        "import nltk\n",
        "from nltk.tokenize import word_tokenize\n",
        "import numpy as np\n",
        "\n",
        "def extract_text_from_pdf(file_path):\n",
        "    text = ''\n",
        "    with pdfplumber.open(file_path) as pdf:\n",
        "        for page in pdf.pages:\n",
        "            text += page.extract_text()\n",
        "    return text\n",
        "\n",
        "def extract_features(text):\n",
        "    keywords = re.findall(r'\\b\\w+\\b', text)\n",
        "    invoice_number = re.search(r'Invoice Number: (\\d+)', text)\n",
        "    date = re.search(r'Date: (\\d{2}/\\d{2}/\\d{4})', text)\n",
        "    amount = re.search(r'Amount: (\\d{1,3}(?:,\\d{3})*(?:\\.\\d+)?)', text)\n",
        "    features = {\n",
        "        'keywords': keywords,\n",
        "        'invoice_number': invoice_number.group(1) if invoice_number else None,\n",
        "        'date': date.group(1) if date else None,\n",
        "        'amount': amount.group(1) if amount else None\n",
        "    }\n",
        "    return features\n",
        "\n",
        "\n",
        "def calculate_similarity(features1, features2):\n",
        "    # Convert None values to 0 for numerical operations\n",
        "    vector1 = np.array([len(features1['keywords']),\n",
        "                        features1['invoice_number'] if features1['invoice_number'] is not None else 0,\n",
        "                        features1['date'] if features1['date'] is not None else 0,\n",
        "                        features1['amount'] if features1['amount'] is not None else 0])\n",
        "    vector2 = np.array([len(features2['keywords']),\n",
        "                        features2['invoice_number'] if features2['invoice_number'] is not None else 0,\n",
        "                        features2['date'] if features2['date'] is not None else 0,\n",
        "                        features2['amount'] if features2['amount'] is not None else 0])\n",
        "    dot_product = np.dot(vector1, vector2)\n",
        "    magnitude1 = np.linalg.norm(vector1)\n",
        "    magnitude2 = np.linalg.norm(vector2)\n",
        "    # Handle potential division by zero\n",
        "    if magnitude1 == 0 or magnitude2 == 0:\n",
        "        return 0  # or another appropriate value indicating no similarity\n",
        "    similarity = dot_product / (magnitude1 * magnitude2)\n",
        "    return similarity\n",
        "database = []\n",
        "\n",
        "def add_invoice_to_database(file_path):\n",
        "    text = extract_text_from_pdf(file_path)\n",
        "    features = extract_features(text)\n",
        "    database.append((file_path, features))\n",
        "\n",
        "def find_most_similar_invoice(file_path):\n",
        "    text = extract_text_from_pdf(file_path)\n",
        "    features = extract_features(text)\n",
        "    max_similarity = 0\n",
        "    most_similar_invoice = None\n",
        "    for invoice in database:\n",
        "        similarity = calculate_similarity(features, invoice[1])\n",
        "        if similarity > max_similarity and invoice[0] != file_path:\n",
        "            max_similarity = similarity\n",
        "            most_similar_invoice = invoice\n",
        "    return most_similar_invoice[0], max_similarity\n",
        "\n",
        "def main():\n",
        "    # Add invoices to database\n",
        "    add_invoice_to_database('/content/invoice_102856.pdf')\n",
        "    add_invoice_to_database('/content/invoice_77073.pdf')\n",
        "    add_invoice_to_database('/content/invoice_102857.pdf')\n",
        "\n",
        "    # Find most similar invoice\n",
        "    file_path = '/content/invoice_102856.pdf'\n",
        "    most_similar_invoice, similarity = find_most_similar_invoice(file_path)\n",
        "    print('Most similar invoice:', most_similar_invoice)\n",
        "    print('Similarity score:', similarity)\n",
        "\n",
        "if __name__ == '__main__':\n",
        "    main()\n",
        "\n"
      ],
      "metadata": {
        "colab": {
          "base_uri": "https://localhost:8080/"
        },
        "id": "Vmd3Mb1RYd3m",
        "outputId": "c54f96f8-84fc-4f0b-c9e7-93acc2e3b0fc"
      },
      "execution_count": 17,
      "outputs": [
        {
          "output_type": "stream",
          "name": "stdout",
          "text": [
            "Requirement already satisfied: pdfplumber in /usr/local/lib/python3.10/dist-packages (0.11.2)\n",
            "Requirement already satisfied: pdfminer.six==20231228 in /usr/local/lib/python3.10/dist-packages (from pdfplumber) (20231228)\n",
            "Requirement already satisfied: Pillow>=9.1 in /usr/local/lib/python3.10/dist-packages (from pdfplumber) (9.4.0)\n",
            "Requirement already satisfied: pypdfium2>=4.18.0 in /usr/local/lib/python3.10/dist-packages (from pdfplumber) (4.30.0)\n",
            "Requirement already satisfied: charset-normalizer>=2.0.0 in /usr/local/lib/python3.10/dist-packages (from pdfminer.six==20231228->pdfplumber) (3.3.2)\n",
            "Requirement already satisfied: cryptography>=36.0.0 in /usr/local/lib/python3.10/dist-packages (from pdfminer.six==20231228->pdfplumber) (42.0.8)\n",
            "Requirement already satisfied: cffi>=1.12 in /usr/local/lib/python3.10/dist-packages (from cryptography>=36.0.0->pdfminer.six==20231228->pdfplumber) (1.16.0)\n",
            "Requirement already satisfied: pycparser in /usr/local/lib/python3.10/dist-packages (from cffi>=1.12->cryptography>=36.0.0->pdfminer.six==20231228->pdfplumber) (2.22)\n",
            "Most similar invoice: /content/invoice_77073.pdf\n",
            "Similarity score: 1.0\n"
          ]
        }
      ]
    },
    {
      "cell_type": "code",
      "source": [],
      "metadata": {
        "id": "-5LJeiYdYd6O"
      },
      "execution_count": null,
      "outputs": []
    }
  ]
}